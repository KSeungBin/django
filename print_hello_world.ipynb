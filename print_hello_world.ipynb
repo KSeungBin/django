{
  "cells": [
    {
      "cell_type": "markdown",
      "metadata": {
        "id": "view-in-github",
        "colab_type": "text"
      },
      "source": [
        "<a href=\"https://colab.research.google.com/github/KSeungBin/django/blob/master/django_test_01.ipynb\" target=\"_parent\"><img src=\"https://colab.research.google.com/assets/colab-badge.svg\" alt=\"Open In Colab\"/></a>"
      ]
    },
    {
      "cell_type": "code",
      "execution_count": null,
      "metadata": {
        "id": "icVM2wQD-Tqc"
      },
      "outputs": [],
      "source": [
        "#https://medium.com/@arsindoliya/running-django-on-google-colab-ea9392cdee86\n",
        "!pip install django"
      ]
    },
    {
      "cell_type": "markdown",
      "metadata": {
        "id": "5yQAvR4CZujb"
      },
      "source": [
        "# 프로젝트 생성.\n",
        " - 프로젝트와 동일한 이름의 폴더가 생성된다."
      ]
    },
    {
      "cell_type": "code",
      "execution_count": null,
      "metadata": {
        "id": "cnfCLVQa-gaM"
      },
      "outputs": [],
      "source": [
        "#!django-admin startproject portfolio\n",
        "!django-admin startproject secondDashboard"
      ]
    },
    {
      "cell_type": "code",
      "execution_count": null,
      "metadata": {
        "id": "3L2gQPa9-lb4"
      },
      "outputs": [],
      "source": [
        "!ls"
      ]
    },
    {
      "cell_type": "code",
      "execution_count": null,
      "metadata": {
        "id": "92Du7Ct4-qKE"
      },
      "outputs": [],
      "source": [
        "#%cd portfolio/\n",
        "%cd secondDashboard/"
      ]
    },
    {
      "cell_type": "markdown",
      "metadata": {
        "id": "RjBgB11aZ8uD"
      },
      "source": [
        "# 어플리케이션 이름 생성\n",
        " - 어플리케이션과 동일한 이름 생성됨"
      ]
    },
    {
      "cell_type": "code",
      "execution_count": null,
      "metadata": {
        "id": "udCNiFNHIJso"
      },
      "outputs": [],
      "source": [
        "!django-admin startapp firstUI"
      ]
    },
    {
      "cell_type": "markdown",
      "metadata": {
        "id": "l_vFMQEgaR9P"
      },
      "source": [
        "# template 폴더 생성"
      ]
    },
    {
      "cell_type": "code",
      "execution_count": null,
      "metadata": {
        "id": "DKwfAiI2IobE"
      },
      "outputs": [],
      "source": [
        "!mkdir template"
      ]
    },
    {
      "cell_type": "markdown",
      "metadata": {
        "id": "pJ33yO44Yavf"
      },
      "source": [
        "# settings.py에서 추가되는 것들"
      ]
    },
    {
      "cell_type": "markdown",
      "metadata": {
        "id": "nmbofTgEREdH"
      },
      "source": [
        "\n",
        "```\n",
        "ALLOWED_HOSTS = ['colab.research.google.com']\n",
        "```\n",
        "\n"
      ]
    },
    {
      "cell_type": "markdown",
      "metadata": {
        "id": "X5fFjzVSQp7V"
      },
      "source": [
        "```\n",
        "INSTALLED_APPS = [\n",
        "    'django.contrib.admin',\n",
        "    'django.contrib.auth',\n",
        "    'django.contrib.contenttypes',\n",
        "    'django.contrib.sessions',\n",
        "    'django.contrib.messages',\n",
        "    'django.contrib.staticfiles',\n",
        "    'firstUI',\n",
        "]\n",
        "```"
      ]
    },
    {
      "cell_type": "markdown",
      "metadata": {
        "id": "hC4bg_4ORVoo"
      },
      "source": [
        "```\n",
        "TEMPLATES = [\n",
        "    {\n",
        "        'BACKEND': 'django.template.backends.django.DjangoTemplates',\n",
        "        'DIRS': [\n",
        "            os.path.join(BASE_DIR,'template')\n",
        "        ],\n",
        "        'APP_DIRS': True,\n",
        "        'OPTIONS': {\n",
        "            'context_processors': [\n",
        "                'django.template.context_processors.debug',\n",
        "                'django.template.context_processors.request',\n",
        "                'django.contrib.auth.context_processors.auth',\n",
        "                'django.contrib.messages.context_processors.messages',\n",
        "            ],\n",
        "        },\n",
        "    },\n",
        "]\n",
        "\n",
        "import os\n",
        "os.path.join(BASE_DIR,'template') 추가\n",
        "```\n",
        "\n"
      ]
    },
    {
      "cell_type": "markdown",
      "source": [
        "templete/index.html\n",
        "\n",
        "```\n",
        "<html>\n",
        "<h1> hello world</h1>\n",
        "</html>\n",
        "```\n",
        "\n"
      ],
      "metadata": {
        "id": "DcXnOFGmy7dJ"
      }
    },
    {
      "cell_type": "markdown",
      "source": [
        "\n",
        "firstUI/\n",
        "views.py\n",
        "```\n",
        "# 코드로 형식 지정됨\n",
        "from django.shortcuts import render\n",
        "\n",
        "# Create your views here.\n",
        "\n",
        "def index(request):\n",
        "    context={'a':'a'}\n",
        "    return render(request,'index.html', context) \n",
        "\n",
        "```\n"
      ],
      "metadata": {
        "id": "NrogZG2HyiOx"
      }
    },
    {
      "cell_type": "markdown",
      "source": [
        "\n",
        "secondDashboard/url.py\n",
        "```\n",
        "from django.contrib import admin\n",
        "from django.urls import path\n",
        "from django.conf.urls import url\n",
        "from firstUI import views\n",
        "\n",
        "urlpatterns = [\n",
        "    path('admin/', admin.site.urls),\n",
        "    url('^$',views.index,name='Mainpage'),\n",
        "]\n",
        "\n",
        "```\n",
        "\n"
      ],
      "metadata": {
        "id": "AgdwmdSpzmIM"
      }
    },
    {
      "cell_type": "markdown",
      "metadata": {
        "id": "tO8wkFG8an74"
      },
      "source": [
        "# 접속할 Web site 주소 알아내기"
      ]
    },
    {
      "cell_type": "code",
      "execution_count": null,
      "metadata": {
        "id": "rq1hrN72-wIT"
      },
      "outputs": [],
      "source": [
        "from google.colab.output import eval_js\n",
        "print(eval_js(\"google.colab.kernel.proxyPort(8000)\"))"
      ]
    },
    {
      "cell_type": "code",
      "execution_count": null,
      "metadata": {
        "id": "cvM8Ju9hh1aa"
      },
      "outputs": [],
      "source": [
        "!pwd\n",
        "!ls # manage.py 있어야 서버 실행 가능"
      ]
    },
    {
      "cell_type": "code",
      "execution_count": null,
      "metadata": {
        "id": "OMBJVMBahpAP"
      },
      "outputs": [],
      "source": [
        "%cd /content/secondDashboard # option"
      ]
    },
    {
      "cell_type": "markdown",
      "metadata": {
        "id": "5dghSA8aa2ge"
      },
      "source": [
        "# Web server 실행"
      ]
    },
    {
      "cell_type": "code",
      "execution_count": null,
      "metadata": {
        "id": "3C_W1pNi-_Er"
      },
      "outputs": [],
      "source": [
        "!python manage.py runserver 8000"
      ]
    },
    {
      "cell_type": "markdown",
      "metadata": {
        "id": "kdUlBJ2Cgggj"
      },
      "source": [
        "#reference\n",
        " - https://medium.com/@arsindoliya/running-django-on-google-colab-ea9392cdee86\n",
        " - https://medium.com/geekculture/tutorial-display-charts-with-django-and-chart-js-cda3dcec7252"
      ]
    },
    {
      "cell_type": "markdown",
      "metadata": {
        "id": "dPerZoQhdr0E"
      },
      "source": [
        "Running Django on Google Colab.\n",
        "\n",
        "https://medium.com/@arsindoliya/running-django-on-google-colab-ea9392cdee86"
      ]
    },
    {
      "cell_type": "markdown",
      "metadata": {
        "id": "6WWBxV8Ld9pW"
      },
      "source": [
        "DjangoDashboardCorona\n",
        "\n",
        "https://github.com/sharmasw/DjangoDashboardCorona"
      ]
    },
    {
      "cell_type": "markdown",
      "metadata": {
        "id": "Mi7J4PEHeEJc"
      },
      "source": [
        "정두식 django"
      ]
    },
    {
      "cell_type": "markdown",
      "metadata": {
        "id": "eBQTc6CieMLW"
      },
      "source": [
        "COP.Data Lab.\n",
        "\n",
        "http://103.60.126.183:8150/gidatalab\n",
        "\n",
        "https://www.youtube.com/playlist?list=PLr_ki3_GfpZMsoAqfQ7AuKX63MVwc9QPb\n",
        "\n"
      ]
    },
    {
      "cell_type": "markdown",
      "metadata": {
        "id": "cjSpT1mteZnc"
      },
      "source": [
        "How to Create Django Custom Dashboard || Django Tutorial || Django Admin Panel || Frontend Source\n",
        "\n",
        "https://www.youtube.com/watch?v=19YTQ26h14c"
      ]
    },
    {
      "cell_type": "markdown",
      "metadata": {
        "id": "cJZkogfNedao"
      },
      "source": [
        "\n",
        "xavierlesa/djangomqtt\n",
        "https://github.com/xavierlesa/djangomqtt\n"
      ]
    },
    {
      "cell_type": "markdown",
      "metadata": {
        "id": "ZyYGRZvfeqaP"
      },
      "source": [
        "bootstrap 설치 구글 검색"
      ]
    }
  ],
  "metadata": {
    "colab": {
      "name": "django_test_01.ipynb",
      "provenance": [],
      "collapsed_sections": [],
      "include_colab_link": true
    },
    "kernelspec": {
      "display_name": "Python 3",
      "name": "python3"
    },
    "language_info": {
      "name": "python"
    }
  },
  "nbformat": 4,
  "nbformat_minor": 0
}
